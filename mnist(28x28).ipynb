{
 "cells": [
  {
   "cell_type": "markdown",
   "metadata": {},
   "source": [
    "# Keras model example on mnist dataset of 28x28 res\n",
    "## by Chandan Shinde [Github](https://github.com/chandan-shinde)\n",
    "> Note : Make sure that you have mnist.csv and mnist_test.csv files in same directory of this notebook"
   ]
  },
  {
   "cell_type": "code",
   "execution_count": 1,
   "metadata": {},
   "outputs": [],
   "source": [
    "#importing libraries\n",
    "import tensorflow as tf\n",
    "from tensorflow import keras\n",
    "from tensorflow.keras.models import Sequential\n",
    "from tensorflow.keras.layers import Dense, Dropout\n",
    "import numpy as np\n",
    "import matplotlib.pyplot as plt\n",
    "%matplotlib inline"
   ]
  },
  {
   "cell_type": "code",
   "execution_count": 2,
   "metadata": {},
   "outputs": [],
   "source": [
    "#loading the train and test data\n",
    "with open('mnist.csv','r') as f:\n",
    "    train = f.read()\n",
    "    train = train.split('\\n')\n",
    "with open('mnist_test.csv','r') as f:\n",
    "    test = f.read()\n",
    "    test = test.split('\\n')\n",
    "\n",
    "x_train = []\n",
    "y_train = []\n",
    "x_test = []\n",
    "y_test = []\n",
    "\n",
    "for line in train:\n",
    "    if line != '':\n",
    "        x_train.append(np.array(line.split(',')[1:], dtype=np.float32))\n",
    "        y_train.append(np.array(line.split(',')[0]))\n",
    "\n",
    "for line in test:\n",
    "    if line != '':\n",
    "        x_test.append(np.array(line.split(',')[1:], dtype=np.float32))\n",
    "        y_test.append(np.array(line.split(',')[0]))\n",
    "\n",
    "    \n",
    "x_train = np.array(x_train)/255 #normalizing\n",
    "y_train = np.array(y_train)\n",
    "x_test = np.array(x_test)/255 #normalizing\n",
    "y_test = np.array(y_test)\n",
    "\n",
    "del train, test"
   ]
  },
  {
   "cell_type": "code",
   "execution_count": 3,
   "metadata": {},
   "outputs": [
    {
     "data": {
      "image/png": "[encoded data removed]",
      "text/plain": [
       "<Figure size 432x288 with 4 Axes>"
      ]
     },
     "metadata": {
      "needs_background": "light"
     },
     "output_type": "display_data"
    }
   ],
   "source": [
    "#showing some samples\n",
    "\n",
    "for i in range(4):\n",
    "    plt.subplot(1,4,i+1)\n",
    "    plt.imshow(x_train[i].reshape(28,28), cmap = 'binary')\n",
    "    plt.title(y_train[i])"
   ]
  },
  {
   "cell_type": "code",
   "execution_count": 4,
   "metadata": {},
   "outputs": [
    {
     "name": "stdout",
     "output_type": "stream",
     "text": [
      "no of training samples : 20000\n",
      "no of testing samples : 10000\n"
     ]
    }
   ],
   "source": [
    "#no of samples\n",
    "\n",
    "print(f\"no of training samples : {len(y_train)}\")\n",
    "print(f\"no of testing samples : {len(y_test)}\")\n"
   ]
  },
  {
   "cell_type": "code",
   "execution_count": 5,
   "metadata": {},
   "outputs": [],
   "source": [
    "#one hot encoding of labels\n",
    "from sklearn.preprocessing import OneHotEncoder\n",
    "\n",
    "enc = OneHotEncoder(sparse=False, categories='auto')\n",
    "\n",
    "y_train = enc.fit_transform(y_train.reshape(len(y_train),1))\n",
    "y_test = enc.fit_transform(y_test.reshape(len(y_test),1))"
   ]
  },
  {
   "cell_type": "code",
   "execution_count": 6,
   "metadata": {},
   "outputs": [
    {
     "name": "stdout",
     "output_type": "stream",
     "text": [
      "_________________________________________________________________\n",
      "Layer (type)                 Output Shape              Param #   \n",
      "=================================================================\n",
      "layer1 (Dense)               (None, 512)               401920    \n",
      "_________________________________________________________________\n",
      "dropout (Dropout)            (None, 512)               0         \n",
      "_________________________________________________________________\n",
      "layer2 (Dense)               (None, 512)               262656    \n",
      "_________________________________________________________________\n",
      "dropout_1 (Dropout)          (None, 512)               0         \n",
      "_________________________________________________________________\n",
      "layer3 (Dense)               (None, 512)               262656    \n",
      "_________________________________________________________________\n",
      "dropout_2 (Dropout)          (None, 512)               0         \n",
      "_________________________________________________________________\n",
      "output (Dense)               (None, 10)                5130      \n",
      "=================================================================\n",
      "Total params: 932,362\n",
      "Trainable params: 932,362\n",
      "Non-trainable params: 0\n",
      "_________________________________________________________________\n"
     ]
    }
   ],
   "source": [
    "#building the model\n",
    "\n",
    "model = Sequential()\n",
    "model.add(Dense(512,name='layer1',input_dim=784, activation='relu'))\n",
    "model.add(Dropout(0.2))\n",
    "model.add(Dense(512,name='layer2', activation='relu'))\n",
    "model.add(Dropout(0.1))\n",
    "model.add(Dense(512,name='layer3', activation='relu'))\n",
    "model.add(Dropout(0.1))\n",
    "model.add(Dense(10,name='output', activation='softmax'))\n",
    "\n",
    "model.summary()"
   ]
  },
  {
   "cell_type": "code",
   "execution_count": 7,
   "metadata": {},
   "outputs": [],
   "source": [
    "model.compile(loss='categorical_crossentropy', optimizer=keras.optimizers.SGD(lr=0.01), metrics=['accuracy'])"
   ]
  },
  {
   "cell_type": "code",
   "execution_count": 8,
   "metadata": {},
   "outputs": [
    {
     "name": "stdout",
     "output_type": "stream",
     "text": [
      "Train on 16000 samples, validate on 4000 samples\n",
      "Epoch 1/5\n",
      "16000/16000 [==============================] - 2s 98us/step - loss: 2.2827 - acc: 0.1434 - val_loss: 2.2472 - val_acc: 0.1900\n",
      "Epoch 2/5\n",
      "16000/16000 [==============================] - 1s 76us/step - loss: 2.2281 - acc: 0.2002 - val_loss: 2.1885 - val_acc: 0.2745\n",
      "Epoch 3/5\n",
      "16000/16000 [==============================] - 1s 75us/step - loss: 2.1758 - acc: 0.2629 - val_loss: 2.1275 - val_acc: 0.3775\n",
      "Epoch 4/5\n",
      "16000/16000 [==============================] - 1s 76us/step - loss: 2.1176 - acc: 0.3392 - val_loss: 2.0616 - val_acc: 0.4937\n",
      "Epoch 5/5\n",
      "16000/16000 [==============================] - 1s 74us/step - loss: 2.0559 - acc: 0.4159 - val_loss: 1.9893 - val_acc: 0.5962\n",
      "Train on 16000 samples, validate on 4000 samples\n",
      "Epoch 1/5\n",
      "16000/16000 [==============================] - 1s 73us/step - loss: 0.3179 - acc: 0.9084 - val_loss: 0.2918 - val_acc: 0.9160\n",
      "Epoch 2/5\n",
      "16000/16000 [==============================] - 1s 73us/step - loss: 0.3193 - acc: 0.9059 - val_loss: 0.2912 - val_acc: 0.9167\n",
      "Epoch 3/5\n",
      "16000/16000 [==============================] - 1s 73us/step - loss: 0.3123 - acc: 0.9070 - val_loss: 0.2901 - val_acc: 0.9172\n",
      "Epoch 4/5\n",
      "16000/16000 [==============================] - 1s 74us/step - loss: 0.3126 - acc: 0.9076 - val_loss: 0.2893 - val_acc: 0.9177\n",
      "Epoch 5/5\n",
      "16000/16000 [==============================] - 1s 74us/step - loss: 0.3094 - acc: 0.9083 - val_loss: 0.2889 - val_acc: 0.9178\n"
     ]
    },
    {
     "data": {
      "text/plain": [
       "<tensorflow.python.keras.callbacks.History at 0x1f17579eda0>"
      ]
     },
     "execution_count": 8,
     "metadata": {},
     "output_type": "execute_result"
    }
   ],
   "source": [
    "#running training for 120 epoches on batch size 1024 (5 + 110 + 5)\n",
    "    \n",
    "model.fit(x_train, y_train, batch_size=1024, validation_split=0.2, epochs=5, verbose=1)\n",
    "model.fit(x_train, y_train, batch_size=1024, validation_split=0.2, epochs=110, verbose=0)\n",
    "model.fit(x_train, y_train, batch_size=1024, validation_split=0.2, epochs=5, verbose=1)"
   ]
  },
  {
   "cell_type": "code",
   "execution_count": 9,
   "metadata": {},
   "outputs": [
    {
     "name": "stdout",
     "output_type": "stream",
     "text": [
      "10000/10000 [==============================] - 1s 66us/step\n",
      "loss : 0.2708023969233036\n",
      "accuracy : 92.14 %\n"
     ]
    }
   ],
   "source": [
    "#evaluating the model on test set\n",
    "score = model.evaluate(x_test,y_test)\n",
    "print(f\"loss : {score[0]}\")\n",
    "print(f\"accuracy : {score[1] * 100} %\")"
   ]
  },
  {
   "cell_type": "code",
   "execution_count": 10,
   "metadata": {},
   "outputs": [
    {
     "data": {
      "image/png": "[encoded data removed]",
      "text/plain": [
       "<Figure size 432x288 with 8 Axes>"
      ]
     },
     "metadata": {
      "needs_background": "light"
     },
     "output_type": "display_data"
    }
   ],
   "source": [
    "#testing the predictions on test set\n",
    "for i in range(8):\n",
    "    plt.subplot(2,4,i+1)\n",
    "    plt.imshow(x_test[i+400].reshape(28,28), cmap = 'binary')\n",
    "    pred = model.predict(x_test[i+400].reshape(1,784))\n",
    "    val = np.argmax(pred)\n",
    "    per = pred[0,val] * 100\n",
    "    label = str(val) + \" (\" + str(round(per, 2)) + \"%)\"\n",
    "    plt.title(label)\n",
    "   \n"
   ]
  },
  {
   "cell_type": "code",
   "execution_count": 11,
   "metadata": {},
   "outputs": [],
   "source": [
    "model.save('mnist_trained.h5')"
   ]
  },
  {
   "cell_type": "code",
   "execution_count": null,
   "metadata": {},
   "outputs": [],
   "source": []
  }
 ],
 "metadata": {
  "kernelspec": {
   "display_name": "Python 3",
   "language": "python",
   "name": "python3"
  },
  "language_info": {
   "codemirror_mode": {
    "name": "ipython",
    "version": 3
   },
   "file_extension": ".py",
   "mimetype": "text/x-python",
   "name": "python",
   "nbconvert_exporter": "python",
   "pygments_lexer": "ipython3",
   "version": "3.6.8"
  }
 },
 "nbformat": 4,
 "nbformat_minor": 2
}
