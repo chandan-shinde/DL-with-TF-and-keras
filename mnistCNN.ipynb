{
 "cells": [
  {
   "cell_type": "code",
   "execution_count": 1,
   "metadata": {},
   "outputs": [],
   "source": [
    "#tensorflow 2.0 example on CNN\n",
    "import tensorflow as tf\n",
    "from tensorflow import keras as ks\n",
    "from tensorflow.keras.models import Sequential\n",
    "from tensorflow.keras.layers import Conv2D, MaxPool2D, Flatten, Dense, Dropout\n",
    "import numpy as np\n",
    "import matplotlib.pyplot as plt\n",
    "%matplotlib inline"
   ]
  },
  {
   "cell_type": "code",
   "execution_count": 20,
   "metadata": {},
   "outputs": [],
   "source": [
    "from extract import mnistExtract, onehot\n",
    "\n",
    "xtrain, xtest, ytrain, ytest = mnistExtract('mnist.csv','mnist_test.csv')\n",
    "\n",
    "ytrain = onehot(ytrain)\n",
    "ytest = onehot(ytest)\n",
    "\n",
    "xtrain = xtrain.reshape(20000,28,28,1)\n",
    "xtest = xtest.reshape(10000,28,28,1)"
   ]
  },
  {
   "cell_type": "code",
   "execution_count": 30,
   "metadata": {},
   "outputs": [
    {
     "data": {
      "image/png": "[encoded data removed]",
      "text/plain": [
       "<Figure size 432x288 with 8 Axes>"
      ]
     },
     "metadata": {
      "needs_background": "light"
     },
     "output_type": "display_data"
    }
   ],
   "source": [
    "xtrain = xtrain.astype(np.float32)/255\n",
    "xtest = xtest.astype(np.float32)/255\n",
    "\n",
    "for i in range(8):\n",
    "    plt.subplot(2,4,i+1)\n",
    "    plt.imshow(xtrain[i].reshape(28,28), cmap='binary')\n",
    "    plt.title(np.argmax(ytrain[i]))\n"
   ]
  },
  {
   "cell_type": "code",
   "execution_count": 23,
   "metadata": {},
   "outputs": [
    {
     "name": "stdout",
     "output_type": "stream",
     "text": [
      "_________________________________________________________________\n",
      "Layer (type)                 Output Shape              Param #   \n",
      "=================================================================\n",
      "inputConv (Conv2D)           (None, 28, 28, 16)        80        \n",
      "_________________________________________________________________\n",
      "1stPool (MaxPooling2D)       (None, 14, 14, 16)        0         \n",
      "_________________________________________________________________\n",
      "2ndConv (Conv2D)             (None, 14, 14, 32)        2080      \n",
      "_________________________________________________________________\n",
      "2ndPool (MaxPooling2D)       (None, 7, 7, 32)          0         \n",
      "_________________________________________________________________\n",
      "3rdConv (Conv2D)             (None, 7, 7, 64)          8256      \n",
      "_________________________________________________________________\n",
      "3rdPool (MaxPooling2D)       (None, 3, 3, 64)          0         \n",
      "_________________________________________________________________\n",
      "flatLayer (Flatten)          (None, 576)               0         \n",
      "_________________________________________________________________\n",
      "FullyConn (Dense)            (None, 250)               144250    \n",
      "_________________________________________________________________\n",
      "dropout (Dropout)            (None, 250)               0         \n",
      "_________________________________________________________________\n",
      "output (Dense)               (None, 10)                2510      \n",
      "=================================================================\n",
      "Total params: 157,176\n",
      "Trainable params: 157,176\n",
      "Non-trainable params: 0\n",
      "_________________________________________________________________\n"
     ]
    }
   ],
   "source": [
    "#model designing\n",
    "\n",
    "model = Sequential()\n",
    "model.add(Conv2D(filters=16, kernel_size=2, padding='same', activation='relu',name='inputConv', input_shape=(28,28,1)))\n",
    "model.add(MaxPool2D(pool_size=2, name='1stPool'))\n",
    "model.add(Conv2D(filters=32, kernel_size=2, padding='same', activation='relu',name='2ndConv'))\n",
    "model.add(MaxPool2D(pool_size=2, name='2ndPool'))\n",
    "model.add(Conv2D(filters=64, kernel_size=2, padding='same', activation='relu', name='3rdConv'))\n",
    "model.add(MaxPool2D(pool_size=2, name='3rdPool'))\n",
    "model.add(Flatten(name='flatLayer'))\n",
    "model.add(Dense(250,activation='relu',name='FullyConn'))\n",
    "model.add(Dropout(0.2,name='dropout'))\n",
    "model.add(Dense(10,activation='softmax',name='output'))\n",
    "\n",
    "model.summary()"
   ]
  },
  {
   "cell_type": "code",
   "execution_count": 24,
   "metadata": {},
   "outputs": [],
   "source": [
    "#compiling the model\n",
    "model.compile(loss='categorical_crossentropy', optimizer='rmsprop', metrics=['accuracy'])\n",
    "checkpoint = ks.callbacks.ModelCheckpoint(filepath='mnistCNN.hdf5', verbose=0, save_best_only=True)"
   ]
  },
  {
   "cell_type": "code",
   "execution_count": 25,
   "metadata": {},
   "outputs": [
    {
     "name": "stdout",
     "output_type": "stream",
     "text": [
      "Train on 16000 samples, validate on 4000 samples\n",
      "Epoch 1/20\n",
      "16000/16000 [==============================] - 5s 333us/step - loss: 1.7622 - acc: 0.4326 - val_loss: 1.0778 - val_acc: 0.6852\n",
      "Epoch 2/20\n",
      "16000/16000 [==============================] - 5s 284us/step - loss: 0.9263 - acc: 0.7071 - val_loss: 0.6877 - val_acc: 0.7748\n",
      "Epoch 3/20\n",
      "16000/16000 [==============================] - 4s 277us/step - loss: 0.6233 - acc: 0.7980 - val_loss: 0.4629 - val_acc: 0.8610\n",
      "Epoch 4/20\n",
      "16000/16000 [==============================] - 4s 277us/step - loss: 0.4887 - acc: 0.8433 - val_loss: 0.3935 - val_acc: 0.8765\n",
      "Epoch 5/20\n",
      "16000/16000 [==============================] - 5s 283us/step - loss: 0.3818 - acc: 0.8774 - val_loss: 0.3431 - val_acc: 0.8867\n",
      "Epoch 6/20\n",
      "16000/16000 [==============================] - 4s 275us/step - loss: 0.3199 - acc: 0.8984 - val_loss: 0.2481 - val_acc: 0.9227\n",
      "Epoch 7/20\n",
      "16000/16000 [==============================] - 4s 280us/step - loss: 0.2615 - acc: 0.9185 - val_loss: 0.2292 - val_acc: 0.9320\n",
      "Epoch 8/20\n",
      "16000/16000 [==============================] - 4s 279us/step - loss: 0.2300 - acc: 0.9264 - val_loss: 0.1918 - val_acc: 0.9445\n",
      "Epoch 9/20\n",
      "16000/16000 [==============================] - 4s 278us/step - loss: 0.2052 - acc: 0.9346 - val_loss: 0.1745 - val_acc: 0.9410\n",
      "Epoch 10/20\n",
      "16000/16000 [==============================] - 4s 279us/step - loss: 0.1856 - acc: 0.9419 - val_loss: 0.1473 - val_acc: 0.9492\n",
      "Epoch 11/20\n",
      "16000/16000 [==============================] - 4s 275us/step - loss: 0.1562 - acc: 0.9516 - val_loss: 0.1821 - val_acc: 0.9388\n",
      "Epoch 12/20\n",
      "16000/16000 [==============================] - 4s 280us/step - loss: 0.1598 - acc: 0.9491 - val_loss: 0.1229 - val_acc: 0.9615\n",
      "Epoch 13/20\n",
      "16000/16000 [==============================] - 4s 276us/step - loss: 0.1358 - acc: 0.9576 - val_loss: 0.2216 - val_acc: 0.9345\n",
      "Epoch 14/20\n",
      "16000/16000 [==============================] - 5s 285us/step - loss: 0.1361 - acc: 0.9566 - val_loss: 0.1746 - val_acc: 0.9438\n",
      "Epoch 15/20\n",
      "16000/16000 [==============================] - 5s 287us/step - loss: 0.1181 - acc: 0.9630 - val_loss: 0.1134 - val_acc: 0.9638\n",
      "Epoch 16/20\n",
      "16000/16000 [==============================] - 4s 281us/step - loss: 0.1135 - acc: 0.9644 - val_loss: 0.0912 - val_acc: 0.9718\n",
      "Epoch 17/20\n",
      "16000/16000 [==============================] - 4s 279us/step - loss: 0.0996 - acc: 0.9677 - val_loss: 0.0989 - val_acc: 0.9690\n",
      "Epoch 18/20\n",
      "16000/16000 [==============================] - 4s 276us/step - loss: 0.0960 - acc: 0.9689 - val_loss: 0.0862 - val_acc: 0.9723\n",
      "Epoch 19/20\n",
      "16000/16000 [==============================] - 4s 275us/step - loss: 0.0887 - acc: 0.9716 - val_loss: 0.0892 - val_acc: 0.9712\n",
      "Epoch 20/20\n",
      "16000/16000 [==============================] - 5s 281us/step - loss: 0.0795 - acc: 0.9749 - val_loss: 0.0892 - val_acc: 0.9715\n"
     ]
    },
    {
     "data": {
      "text/plain": [
       "<tensorflow.python.keras.callbacks.History at 0x175cbb39048>"
      ]
     },
     "execution_count": 25,
     "metadata": {},
     "output_type": "execute_result"
    }
   ],
   "source": [
    "model.fit(xtrain, ytrain, batch_size=1024, epochs=20, validation_split=0.2, shuffle=True, callbacks=[checkpoint], verbose=1)"
   ]
  },
  {
   "cell_type": "code",
   "execution_count": 26,
   "metadata": {},
   "outputs": [
    {
     "name": "stdout",
     "output_type": "stream",
     "text": [
      "10000/10000 [==============================] - 1s 92us/step\n"
     ]
    },
    {
     "data": {
      "text/plain": [
       "[0.08041853774180636, 0.9741]"
      ]
     },
     "execution_count": 26,
     "metadata": {},
     "output_type": "execute_result"
    }
   ],
   "source": [
    "model.load_weights('mnistCNN.hdf5')\n",
    "model.evaluate(xtest,ytest)"
   ]
  },
  {
   "cell_type": "code",
   "execution_count": 27,
   "metadata": {},
   "outputs": [
    {
     "name": "stdout",
     "output_type": "stream",
     "text": [
      "Train on 16000 samples, validate on 4000 samples\n",
      "Epoch 1/10\n",
      "16000/16000 [==============================] - 5s 288us/step - loss: 0.0997 - acc: 0.9672 - val_loss: 0.0818 - val_acc: 0.9737\n",
      "Epoch 2/10\n",
      "16000/16000 [==============================] - 5s 281us/step - loss: 0.0844 - acc: 0.9731 - val_loss: 0.1194 - val_acc: 0.9598\n",
      "Epoch 3/10\n",
      "16000/16000 [==============================] - 4s 275us/step - loss: 0.0750 - acc: 0.9758 - val_loss: 0.0775 - val_acc: 0.9737\n",
      "Epoch 4/10\n",
      "16000/16000 [==============================] - 4s 281us/step - loss: 0.0690 - acc: 0.9764 - val_loss: 0.0756 - val_acc: 0.9757\n",
      "Epoch 5/10\n",
      "16000/16000 [==============================] - 4s 277us/step - loss: 0.0718 - acc: 0.9766 - val_loss: 0.0767 - val_acc: 0.9777\n",
      "Epoch 6/10\n",
      "16000/16000 [==============================] - 5s 284us/step - loss: 0.0630 - acc: 0.9800 - val_loss: 0.1002 - val_acc: 0.9680\n",
      "Epoch 7/10\n",
      "16000/16000 [==============================] - 4s 280us/step - loss: 0.0621 - acc: 0.9806 - val_loss: 0.0668 - val_acc: 0.9795\n",
      "Epoch 8/10\n",
      "16000/16000 [==============================] - 4s 278us/step - loss: 0.0494 - acc: 0.9848 - val_loss: 0.0677 - val_acc: 0.9808\n",
      "Epoch 9/10\n",
      "16000/16000 [==============================] - 4s 277us/step - loss: 0.0551 - acc: 0.9816 - val_loss: 0.0674 - val_acc: 0.9800\n",
      "Epoch 10/10\n",
      "16000/16000 [==============================] - 4s 277us/step - loss: 0.0435 - acc: 0.9854 - val_loss: 0.0745 - val_acc: 0.9780\n"
     ]
    },
    {
     "data": {
      "text/plain": [
       "<tensorflow.python.keras.callbacks.History at 0x175cc1f5710>"
      ]
     },
     "execution_count": 27,
     "metadata": {},
     "output_type": "execute_result"
    }
   ],
   "source": [
    "model.fit(xtrain, ytrain, batch_size=1024, epochs=10, validation_split=0.2, shuffle=True, callbacks=[checkpoint], verbose=1)"
   ]
  },
  {
   "cell_type": "code",
   "execution_count": 28,
   "metadata": {},
   "outputs": [
    {
     "name": "stdout",
     "output_type": "stream",
     "text": [
      "10000/10000 [==============================] - 1s 93us/step\n"
     ]
    },
    {
     "data": {
      "text/plain": [
       "[0.05952225716086104, 0.9806]"
      ]
     },
     "execution_count": 28,
     "metadata": {},
     "output_type": "execute_result"
    }
   ],
   "source": [
    "model.load_weights('mnistCNN.hdf5')\n",
    "model.evaluate(xtest,ytest)"
   ]
  },
  {
   "cell_type": "code",
   "execution_count": null,
   "metadata": {},
   "outputs": [],
   "source": []
  }
 ],
 "metadata": {
  "kernelspec": {
   "display_name": "Python 3",
   "language": "python",
   "name": "python3"
  },
  "language_info": {
   "codemirror_mode": {
    "name": "ipython",
    "version": 3
   },
   "file_extension": ".py",
   "mimetype": "text/x-python",
   "name": "python",
   "nbconvert_exporter": "python",
   "pygments_lexer": "ipython3",
   "version": "3.6.8"
  }
 },
 "nbformat": 4,
 "nbformat_minor": 2
}
